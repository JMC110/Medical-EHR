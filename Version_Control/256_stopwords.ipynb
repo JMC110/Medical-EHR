{
 "cells": [
  {
   "cell_type": "code",
   "execution_count": 4,
   "metadata": {},
   "outputs": [
    {
     "name": "stdout",
     "output_type": "stream",
     "text": [
      "{\"mustn't\", 'wouldn', 'won', 'how', 'am', 'who', \"that'll\", 'out', \"hasn't\", \"doesn't\", 'further', 'more', 'both', 'same', 'y', 'a', \"you'll\", 're', 'above', 'off', 'theirs', 'my', 'they', 'some', \"she's\", 'against', 'can', 'just', 'down', 'all', 'itself', 'that', 'do', 'any', 'have', 'on', 'over', 'shan', 'from', 'here', \"mightn't\", 'very', 'than', 'ours', \"needn't\", 'as', \"should've\", 'an', 'will', 'such', \"you've\", 'don', 'if', \"haven't\", 'through', 'd', 'themselves', \"couldn't\", 'why', 'with', 'once', 'and', 'was', 'your', 'again', 'there', 'the', \"didn't\", \"wasn't\", 'm', 'weren', 'does', 'ourselves', 'under', 'below', 'to', 'mightn', 'when', \"shouldn't\", 'haven', 'them', \"won't\", \"wouldn't\", 'myself', 'he', 'did', 'isn', 'of', 'too', 'me', 'ain', 'during', 'while', 'aren', 'after', 'didn', 'because', 'ma', 'whom', 'll', 'only', 'our', 'between', 'its', 'needn', 'these', 'having', 'should', \"aren't\", 'hasn', 'hers', 'you', 'not', 'been', 'o', 'about', 'no', 'himself', 'i', \"shan't\", 'hadn', \"don't\", \"isn't\", 'now', 'had', 've', 'it', 'herself', 'his', 'most', 'until', 'their', \"weren't\", 'those', 'doing', 'has', 'where', 'doesn', 'be', 'yourselves', 'are', \"it's\", 'at', 'couldn', \"hadn't\", 'into', 'being', 'own', 'her', 'shouldn', 'is', 'in', \"you're\", 'so', 's', 'wasn', 'then', 'before', 'she', 'mustn', 'which', 'yours', 'few', \"you'd\", 'other', 'by', 'but', 'yourself', 'nor', 'for', 'each', 'him', 'up', 'were', 'or', 'what', 't', 'we', 'this'}\n"
     ]
    }
   ],
   "source": [
    "import io \n",
    "from nltk.corpus import stopwords \n",
    "from nltk.tokenize import word_tokenize \n",
    "#word_tokenize accepts a string as an input, not a file. \n",
    "stop_words = set(stopwords.words('english')) \n",
    "print(stop_words)"
   ]
  },
  {
   "cell_type": "code",
   "execution_count": null,
   "metadata": {},
   "outputs": [],
   "source": [
    "stopword={\"mustn't\", 'wouldn', 'won', 'how', 'am', 'who', \"that'll\", 'out', \"hasn't\", \"doesn't\", 'further', 'more', 'both', 'same', 'y', 'a', \"you'll\", 're', 'above', 'off', 'theirs', 'my', 'they', 'some', \"she's\", 'against', 'can', 'just', 'down', 'all', 'itself', 'that', 'do', 'any', 'have', 'on', 'over', 'shan', 'from', 'here', \"mightn't\", 'very', 'than', 'ours', \"needn't\", 'as', \"should've\", 'an', 'will', 'such', \"you've\", 'don', 'if', \"haven't\", 'through', 'd', 'themselves', \"couldn't\", 'why', 'with', 'once', 'and', 'was', 'your', 'again', 'there', 'the', \"didn't\", \"wasn't\", 'm', 'weren', 'does', 'ourselves', 'under', 'below', 'to', 'mightn', 'when', \"shouldn't\", 'haven', 'them', \"won't\", \"wouldn't\", 'myself', 'he', 'did', 'isn', 'of', 'too', 'me', 'ain', 'during', 'while', 'aren', 'after', 'didn', 'because', 'ma', 'whom', 'll', 'only', 'our', 'between', 'its', 'needn', 'these', 'having', 'should', \"aren't\", 'hasn', 'hers', 'you', 'not', 'been', 'o', 'about', 'no', 'himself', 'i', \"shan't\", 'hadn', \"don't\", \"isn't\", 'now', 'had', 've', 'it', 'herself', 'his', 'most', 'until', 'their', \"weren't\", 'those', 'doing', 'has', 'where', 'doesn', 'be', 'yourselves', 'are', \"it's\", 'at', 'couldn', \"hadn't\", 'into', 'being', 'own', 'her', 'shouldn', 'is', 'in', \"you're\", 'so', 's', 'wasn', 'then', 'before', 'she', 'mustn', 'which', 'yours', 'few', \"you'd\", 'other', 'by', 'but', 'yourself', 'nor', 'for', 'each', 'him', 'up', 'were', 'or', 'what', 't', 'we', 'this'}"
   ]
  }
 ],
 "metadata": {
  "kernelspec": {
   "display_name": "Python 3",
   "language": "python",
   "name": "python3"
  },
  "language_info": {
   "codemirror_mode": {
    "name": "ipython",
    "version": 3
   },
   "file_extension": ".py",
   "mimetype": "text/x-python",
   "name": "python",
   "nbconvert_exporter": "python",
   "pygments_lexer": "ipython3",
   "version": "3.7.4"
  }
 },
 "nbformat": 4,
 "nbformat_minor": 2
}
